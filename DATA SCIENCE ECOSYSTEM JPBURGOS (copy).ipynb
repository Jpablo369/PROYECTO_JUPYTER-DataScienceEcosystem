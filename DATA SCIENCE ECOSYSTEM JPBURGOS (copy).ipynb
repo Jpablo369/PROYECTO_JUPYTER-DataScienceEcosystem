{
  "metadata": {
    "kernelspec": {
      "name": "python",
      "display_name": "Python (Pyodide)",
      "language": "python"
    },
    "language_info": {
      "codemirror_mode": {
        "name": "python",
        "version": 3
      },
      "file_extension": ".py",
      "mimetype": "text/x-python",
      "name": "python",
      "nbconvert_exporter": "python",
      "pygments_lexer": "ipython3",
      "version": "3.8"
    }
  },
  "nbformat_minor": 4,
  "nbformat": 4,
  "cells": [
    {
      "cell_type": "markdown",
      "source": "# DATA SCIENCE ECOSYSTEM",
      "metadata": {}
    },
    {
      "cell_type": "markdown",
      "source": "**INTRODUCCIÓN:** En el presente cuaderno, revisaremos diferentes bibliotecas y lenguajes comunmente utilizados en Ciencia de Datos para combinar estadísticas.",
      "metadata": {}
    },
    {
      "cell_type": "markdown",
      "source": "# LISTADO DE LENGUAJES EN CIENCIA DE DATOS:\n1. Python\n2. R\n3. SQL\n4. JULIA\n5. SCALA\n6. JAVA\n7. C++\n",
      "metadata": {}
    },
    {
      "cell_type": "markdown",
      "source": "# LISTADO DE LAS PRINCIPALES BIBLIOTECAS DE CIENCIA DE DATOS:\n\n**PYTHON:**\n1. NumPy\n2. Pandas\n3. Matplotlib\n4. Seaborn\n5. TensorFlow y PyTorch\n6. Scikit-learn\n\n**R:** \n1. dplyr\n2. ggplot2\n3. tidyr\n4. caret\n",
      "metadata": {}
    },
    {
      "cell_type": "markdown",
      "source": "# TABLA DE HERRAMIENTAS DE CIENCIA DE DATOS\n| Herramienta | Descripción |\n|---|---|\n| Jupyter Notebook | Entorno interactivo, utilizado para escribir y ejecutar código. Es útil para la exploración de datos y prototipado. |\n| RStudio | IDE específico para R con herramientas para análisis estadístico y visualización. |\n| Google Colab | Plataforma gratuita en la nube para ejecutar notebooks de Jupyter, con acceso a GPUs. |\n| Visual Studio Code | Editor de código versátil, altamente personalizable y con extensiones para ciencia de datos. |\n| DataCamp | Plataforma de aprendizaje en línea con cursos interactivos y proyectos prácticos en R y Python. |\n| Tableau | Herramienta de visualización de datos. | \n| Power BI  | Herramienta de inteligencia de negocios y visualización. | \n| TensorFlow  | Biblioteca para aprendizaje automático y redes neuronales. | \n| Scikit-learn  | Biblioteca de aprendizaje automático en Python. | \n",
      "metadata": {}
    },
    {
      "cell_type": "markdown",
      "source": "# EJEMPLOS DE EXPRESIONES ARITMÉTICAS:\nLas expresiones aritméticas representan combinaciones de números, operadores y paréntesis para ejecutar cálculos matemáticos. Por ejemplo:\n\n**SUMA:**\n* `24 + 5`  # Suma: resultado 29\n\n**RESTA:**\n* `15 - 4`  # Resta: resultado 11\n\n**MULTIPLICACIÓN:**\n* `36 * 9`  # Multiplicación: resultado 234\n\n**DIVISIÓN:**\n* `25 / 5`  # División: resultado 5\n\n**EXPONENCIACIÓN:**\n* `2 ** 3`  # Exponenciación: resultado 8\n",
      "metadata": {}
    },
    {
      "cell_type": "code",
      "source": "# MULTIPLICACIÓN Y SUMA:\nnumero1 = 369\nnumero2 = 3\n\n# MULTIPLICACIÓN\nmultiplicacion = numero1 * numero2\n\n# SUMA\nsuma = numero1 + numero2\n\n# IMPRIMIR RESULTADOS\nprint(\"El resultado de la multiplicación de\", numero1, \"y\", numero2, \"es:\", multiplicacion)\nprint(\"El resultado de la suma de\", numero1, \"y\", numero2, \"es:\", suma)\n",
      "metadata": {
        "trusted": true
      },
      "outputs": [
        {
          "name": "stdout",
          "text": "El resultado de la multiplicación de 369 y 3 es: 1107\nEl resultado de la suma de 369 y 3 es: 372\n",
          "output_type": "stream"
        }
      ],
      "execution_count": 13
    },
    {
      "cell_type": "code",
      "source": "# CONVERTIR MINUTOS EN HORAS:\ndef convertir_minutos_a_horas(minutos):\n    horas = minutos / 60  # CONVERTIR MINUTOS EN HORAS\n    return horas\n\n# INDICAR EL NÚMERO DE MINUTOS:\nminutos = 8500 \n\n# EJECUTAR EL RESULTADO:\nresultado = convertir_minutos_a_horas(minutos)\n\n# RESULTADO:\nprint(f\"{minutos} minutos corresponden a {resultado:.2f} horas.\")\n",
      "metadata": {
        "trusted": true
      },
      "outputs": [
        {
          "name": "stdout",
          "text": "8500 minutos corresponden a 141.67 horas.\n",
          "output_type": "stream"
        }
      ],
      "execution_count": 14
    },
    {
      "cell_type": "code",
      "source": "OBJETIVOS_POR_MÓDULO = {\n    \"Módulo 1\": \"Adquirir una visión general de las herramientas utilizadas en ciencia de datos.\",\n    \"Módulo 2\": \"Dominar lenguajes de programación clave como Python y R.\",\n    \"Módulo 3\": \"Exploración profunda de bibliotecas, API y conjuntos de datos.\",\n    \"Módulo 4\": \"Maestría en el uso de Jupyter Notebook para análisis interactivo.\",\n    \"Módulo 5\": \"Desarrollo de habilidades en control de versiones con Git y GitHub.\",\n    \"Módulo 6\": \"Aplicación práctica de los conocimientos adquiridos en un proyecto.\",\n    \"Módulo 7\": \"Introducción a IBM Watson Studio para análisis de datos en la nube.\"\n}\n\n# IMPRIMIR LOS OBJETIVOS\nfor modulo, objetivo in objetivos_modulos.items():\n    print(f\"OBJETIVO {modulo}: {objetivo}\")\n",
      "metadata": {
        "trusted": true
      },
      "outputs": [
        {
          "name": "stdout",
          "text": "OBJETIVO Módulo 1: Adquirir una visión general de las herramientas utilizadas en ciencia de datos.\nOBJETIVO Módulo 2: Dominar lenguajes de programación clave como Python y R.\nOBJETIVO Módulo 3: Exploración profunda de bibliotecas, API y conjuntos de datos.\nOBJETIVO Módulo 4: Maestría en el uso de Jupyter Notebook para análisis interactivo.\nOBJETIVO Módulo 5: Desarrollo de habilidades en control de versiones con Git y GitHub.\nOBJETIVO Módulo 6: Aplicación práctica de los conocimientos adquiridos en un proyecto.\nOBJETIVO Módulo 7: Introducción a IBM Watson Studio para análisis de datos en la nube.\n",
          "output_type": "stream"
        }
      ],
      "execution_count": 15
    },
    {
      "cell_type": "markdown",
      "source": "# AUTOR: JUAN PABLO BURGOS",
      "metadata": {}
    },
    {
      "cell_type": "code",
      "source": "",
      "metadata": {
        "trusted": true
      },
      "outputs": [],
      "execution_count": null
    },
    {
      "cell_type": "code",
      "source": "",
      "metadata": {
        "trusted": true
      },
      "outputs": [],
      "execution_count": null
    }
  ]
}